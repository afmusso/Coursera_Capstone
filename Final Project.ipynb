{
 "cells": [
  {
   "cell_type": "markdown",
   "metadata": {},
   "source": [
    "### Coursera_Capstone"
   ]
  },
  {
   "cell_type": "markdown",
   "metadata": {},
   "source": [
    "Importing libraries"
   ]
  },
  {
   "cell_type": "code",
   "execution_count": 1,
   "metadata": {},
   "outputs": [],
   "source": [
    "import pandas as pd, numpy as np,matplotlib.pyplot as plt\n",
    "import seaborn as sns"
   ]
  },
  {
   "cell_type": "markdown",
   "metadata": {},
   "source": [
    "Reading dataset"
   ]
  },
  {
   "cell_type": "code",
   "execution_count": 2,
   "metadata": {},
   "outputs": [
    {
     "name": "stderr",
     "output_type": "stream",
     "text": [
      "/Volumes/Transcend/anaconda3/lib/python3.6/site-packages/IPython/core/interactiveshell.py:2728: DtypeWarning: Columns (33) have mixed types.Specify dtype option on import or set low_memory=False.\n",
      "  interactivity=interactivity, compiler=compiler, result=result)\n"
     ]
    }
   ],
   "source": [
    "df = pd.read_csv('/Users/andresmussor/Downloads/Data-Collisions.csv')"
   ]
  },
  {
   "cell_type": "code",
   "execution_count": 3,
   "metadata": {},
   "outputs": [
    {
     "data": {
      "text/html": [
       "<div>\n",
       "<style scoped>\n",
       "    .dataframe tbody tr th:only-of-type {\n",
       "        vertical-align: middle;\n",
       "    }\n",
       "\n",
       "    .dataframe tbody tr th {\n",
       "        vertical-align: top;\n",
       "    }\n",
       "\n",
       "    .dataframe thead th {\n",
       "        text-align: right;\n",
       "    }\n",
       "</style>\n",
       "<table border=\"1\" class=\"dataframe\">\n",
       "  <thead>\n",
       "    <tr style=\"text-align: right;\">\n",
       "      <th></th>\n",
       "      <th>SEVERITYCODE</th>\n",
       "      <th>X</th>\n",
       "      <th>Y</th>\n",
       "      <th>OBJECTID</th>\n",
       "      <th>INCKEY</th>\n",
       "      <th>COLDETKEY</th>\n",
       "      <th>REPORTNO</th>\n",
       "      <th>STATUS</th>\n",
       "      <th>ADDRTYPE</th>\n",
       "      <th>INTKEY</th>\n",
       "      <th>LOCATION</th>\n",
       "      <th>EXCEPTRSNCODE</th>\n",
       "      <th>EXCEPTRSNDESC</th>\n",
       "      <th>SEVERITYCODE.1</th>\n",
       "      <th>SEVERITYDESC</th>\n",
       "      <th>COLLISIONTYPE</th>\n",
       "      <th>PERSONCOUNT</th>\n",
       "      <th>PEDCOUNT</th>\n",
       "      <th>PEDCYLCOUNT</th>\n",
       "      <th>VEHCOUNT</th>\n",
       "      <th>INCDATE</th>\n",
       "      <th>INCDTTM</th>\n",
       "      <th>JUNCTIONTYPE</th>\n",
       "      <th>SDOT_COLCODE</th>\n",
       "      <th>SDOT_COLDESC</th>\n",
       "      <th>INATTENTIONIND</th>\n",
       "      <th>UNDERINFL</th>\n",
       "      <th>WEATHER</th>\n",
       "      <th>ROADCOND</th>\n",
       "      <th>LIGHTCOND</th>\n",
       "      <th>PEDROWNOTGRNT</th>\n",
       "      <th>SDOTCOLNUM</th>\n",
       "      <th>SPEEDING</th>\n",
       "      <th>ST_COLCODE</th>\n",
       "      <th>ST_COLDESC</th>\n",
       "      <th>SEGLANEKEY</th>\n",
       "      <th>CROSSWALKKEY</th>\n",
       "      <th>HITPARKEDCAR</th>\n",
       "    </tr>\n",
       "  </thead>\n",
       "  <tbody>\n",
       "    <tr>\n",
       "      <th>0</th>\n",
       "      <td>2</td>\n",
       "      <td>-122.323148</td>\n",
       "      <td>47.703140</td>\n",
       "      <td>1</td>\n",
       "      <td>1307</td>\n",
       "      <td>1307</td>\n",
       "      <td>3502005</td>\n",
       "      <td>Matched</td>\n",
       "      <td>Intersection</td>\n",
       "      <td>37475.0</td>\n",
       "      <td>5TH AVE NE AND NE 103RD ST</td>\n",
       "      <td></td>\n",
       "      <td>NaN</td>\n",
       "      <td>2</td>\n",
       "      <td>Injury Collision</td>\n",
       "      <td>Angles</td>\n",
       "      <td>2</td>\n",
       "      <td>0</td>\n",
       "      <td>0</td>\n",
       "      <td>2</td>\n",
       "      <td>2013/03/27 00:00:00+00</td>\n",
       "      <td>3/27/2013 2:54:00 PM</td>\n",
       "      <td>At Intersection (intersection related)</td>\n",
       "      <td>11</td>\n",
       "      <td>MOTOR VEHICLE STRUCK MOTOR VEHICLE, FRONT END ...</td>\n",
       "      <td>NaN</td>\n",
       "      <td>N</td>\n",
       "      <td>Overcast</td>\n",
       "      <td>Wet</td>\n",
       "      <td>Daylight</td>\n",
       "      <td>NaN</td>\n",
       "      <td>NaN</td>\n",
       "      <td>NaN</td>\n",
       "      <td>10</td>\n",
       "      <td>Entering at angle</td>\n",
       "      <td>0</td>\n",
       "      <td>0</td>\n",
       "      <td>N</td>\n",
       "    </tr>\n",
       "    <tr>\n",
       "      <th>1</th>\n",
       "      <td>1</td>\n",
       "      <td>-122.347294</td>\n",
       "      <td>47.647172</td>\n",
       "      <td>2</td>\n",
       "      <td>52200</td>\n",
       "      <td>52200</td>\n",
       "      <td>2607959</td>\n",
       "      <td>Matched</td>\n",
       "      <td>Block</td>\n",
       "      <td>NaN</td>\n",
       "      <td>AURORA BR BETWEEN RAYE ST AND BRIDGE WAY N</td>\n",
       "      <td>NaN</td>\n",
       "      <td>NaN</td>\n",
       "      <td>1</td>\n",
       "      <td>Property Damage Only Collision</td>\n",
       "      <td>Sideswipe</td>\n",
       "      <td>2</td>\n",
       "      <td>0</td>\n",
       "      <td>0</td>\n",
       "      <td>2</td>\n",
       "      <td>2006/12/20 00:00:00+00</td>\n",
       "      <td>12/20/2006 6:55:00 PM</td>\n",
       "      <td>Mid-Block (not related to intersection)</td>\n",
       "      <td>16</td>\n",
       "      <td>MOTOR VEHICLE STRUCK MOTOR VEHICLE, LEFT SIDE ...</td>\n",
       "      <td>NaN</td>\n",
       "      <td>0</td>\n",
       "      <td>Raining</td>\n",
       "      <td>Wet</td>\n",
       "      <td>Dark - Street Lights On</td>\n",
       "      <td>NaN</td>\n",
       "      <td>6354039.0</td>\n",
       "      <td>NaN</td>\n",
       "      <td>11</td>\n",
       "      <td>From same direction - both going straight - bo...</td>\n",
       "      <td>0</td>\n",
       "      <td>0</td>\n",
       "      <td>N</td>\n",
       "    </tr>\n",
       "    <tr>\n",
       "      <th>2</th>\n",
       "      <td>1</td>\n",
       "      <td>-122.334540</td>\n",
       "      <td>47.607871</td>\n",
       "      <td>3</td>\n",
       "      <td>26700</td>\n",
       "      <td>26700</td>\n",
       "      <td>1482393</td>\n",
       "      <td>Matched</td>\n",
       "      <td>Block</td>\n",
       "      <td>NaN</td>\n",
       "      <td>4TH AVE BETWEEN SENECA ST AND UNIVERSITY ST</td>\n",
       "      <td>NaN</td>\n",
       "      <td>NaN</td>\n",
       "      <td>1</td>\n",
       "      <td>Property Damage Only Collision</td>\n",
       "      <td>Parked Car</td>\n",
       "      <td>4</td>\n",
       "      <td>0</td>\n",
       "      <td>0</td>\n",
       "      <td>3</td>\n",
       "      <td>2004/11/18 00:00:00+00</td>\n",
       "      <td>11/18/2004 10:20:00 AM</td>\n",
       "      <td>Mid-Block (not related to intersection)</td>\n",
       "      <td>14</td>\n",
       "      <td>MOTOR VEHICLE STRUCK MOTOR VEHICLE, REAR END</td>\n",
       "      <td>NaN</td>\n",
       "      <td>0</td>\n",
       "      <td>Overcast</td>\n",
       "      <td>Dry</td>\n",
       "      <td>Daylight</td>\n",
       "      <td>NaN</td>\n",
       "      <td>4323031.0</td>\n",
       "      <td>NaN</td>\n",
       "      <td>32</td>\n",
       "      <td>One parked--one moving</td>\n",
       "      <td>0</td>\n",
       "      <td>0</td>\n",
       "      <td>N</td>\n",
       "    </tr>\n",
       "    <tr>\n",
       "      <th>3</th>\n",
       "      <td>1</td>\n",
       "      <td>-122.334803</td>\n",
       "      <td>47.604803</td>\n",
       "      <td>4</td>\n",
       "      <td>1144</td>\n",
       "      <td>1144</td>\n",
       "      <td>3503937</td>\n",
       "      <td>Matched</td>\n",
       "      <td>Block</td>\n",
       "      <td>NaN</td>\n",
       "      <td>2ND AVE BETWEEN MARION ST AND MADISON ST</td>\n",
       "      <td></td>\n",
       "      <td>NaN</td>\n",
       "      <td>1</td>\n",
       "      <td>Property Damage Only Collision</td>\n",
       "      <td>Other</td>\n",
       "      <td>3</td>\n",
       "      <td>0</td>\n",
       "      <td>0</td>\n",
       "      <td>3</td>\n",
       "      <td>2013/03/29 00:00:00+00</td>\n",
       "      <td>3/29/2013 9:26:00 AM</td>\n",
       "      <td>Mid-Block (not related to intersection)</td>\n",
       "      <td>11</td>\n",
       "      <td>MOTOR VEHICLE STRUCK MOTOR VEHICLE, FRONT END ...</td>\n",
       "      <td>NaN</td>\n",
       "      <td>N</td>\n",
       "      <td>Clear</td>\n",
       "      <td>Dry</td>\n",
       "      <td>Daylight</td>\n",
       "      <td>NaN</td>\n",
       "      <td>NaN</td>\n",
       "      <td>NaN</td>\n",
       "      <td>23</td>\n",
       "      <td>From same direction - all others</td>\n",
       "      <td>0</td>\n",
       "      <td>0</td>\n",
       "      <td>N</td>\n",
       "    </tr>\n",
       "    <tr>\n",
       "      <th>4</th>\n",
       "      <td>2</td>\n",
       "      <td>-122.306426</td>\n",
       "      <td>47.545739</td>\n",
       "      <td>5</td>\n",
       "      <td>17700</td>\n",
       "      <td>17700</td>\n",
       "      <td>1807429</td>\n",
       "      <td>Matched</td>\n",
       "      <td>Intersection</td>\n",
       "      <td>34387.0</td>\n",
       "      <td>SWIFT AVE S AND SWIFT AV OFF RP</td>\n",
       "      <td>NaN</td>\n",
       "      <td>NaN</td>\n",
       "      <td>2</td>\n",
       "      <td>Injury Collision</td>\n",
       "      <td>Angles</td>\n",
       "      <td>2</td>\n",
       "      <td>0</td>\n",
       "      <td>0</td>\n",
       "      <td>2</td>\n",
       "      <td>2004/01/28 00:00:00+00</td>\n",
       "      <td>1/28/2004 8:04:00 AM</td>\n",
       "      <td>At Intersection (intersection related)</td>\n",
       "      <td>11</td>\n",
       "      <td>MOTOR VEHICLE STRUCK MOTOR VEHICLE, FRONT END ...</td>\n",
       "      <td>NaN</td>\n",
       "      <td>0</td>\n",
       "      <td>Raining</td>\n",
       "      <td>Wet</td>\n",
       "      <td>Daylight</td>\n",
       "      <td>NaN</td>\n",
       "      <td>4028032.0</td>\n",
       "      <td>NaN</td>\n",
       "      <td>10</td>\n",
       "      <td>Entering at angle</td>\n",
       "      <td>0</td>\n",
       "      <td>0</td>\n",
       "      <td>N</td>\n",
       "    </tr>\n",
       "  </tbody>\n",
       "</table>\n",
       "</div>"
      ],
      "text/plain": [
       "   SEVERITYCODE           X          Y  OBJECTID  INCKEY  COLDETKEY REPORTNO  \\\n",
       "0             2 -122.323148  47.703140         1    1307       1307  3502005   \n",
       "1             1 -122.347294  47.647172         2   52200      52200  2607959   \n",
       "2             1 -122.334540  47.607871         3   26700      26700  1482393   \n",
       "3             1 -122.334803  47.604803         4    1144       1144  3503937   \n",
       "4             2 -122.306426  47.545739         5   17700      17700  1807429   \n",
       "\n",
       "    STATUS      ADDRTYPE   INTKEY  \\\n",
       "0  Matched  Intersection  37475.0   \n",
       "1  Matched         Block      NaN   \n",
       "2  Matched         Block      NaN   \n",
       "3  Matched         Block      NaN   \n",
       "4  Matched  Intersection  34387.0   \n",
       "\n",
       "                                      LOCATION EXCEPTRSNCODE EXCEPTRSNDESC  \\\n",
       "0                   5TH AVE NE AND NE 103RD ST                         NaN   \n",
       "1   AURORA BR BETWEEN RAYE ST AND BRIDGE WAY N           NaN           NaN   \n",
       "2  4TH AVE BETWEEN SENECA ST AND UNIVERSITY ST           NaN           NaN   \n",
       "3     2ND AVE BETWEEN MARION ST AND MADISON ST                         NaN   \n",
       "4              SWIFT AVE S AND SWIFT AV OFF RP           NaN           NaN   \n",
       "\n",
       "   SEVERITYCODE.1                    SEVERITYDESC COLLISIONTYPE  PERSONCOUNT  \\\n",
       "0               2                Injury Collision        Angles            2   \n",
       "1               1  Property Damage Only Collision     Sideswipe            2   \n",
       "2               1  Property Damage Only Collision    Parked Car            4   \n",
       "3               1  Property Damage Only Collision         Other            3   \n",
       "4               2                Injury Collision        Angles            2   \n",
       "\n",
       "   PEDCOUNT  PEDCYLCOUNT  VEHCOUNT                 INCDATE  \\\n",
       "0         0            0         2  2013/03/27 00:00:00+00   \n",
       "1         0            0         2  2006/12/20 00:00:00+00   \n",
       "2         0            0         3  2004/11/18 00:00:00+00   \n",
       "3         0            0         3  2013/03/29 00:00:00+00   \n",
       "4         0            0         2  2004/01/28 00:00:00+00   \n",
       "\n",
       "                  INCDTTM                             JUNCTIONTYPE  \\\n",
       "0    3/27/2013 2:54:00 PM   At Intersection (intersection related)   \n",
       "1   12/20/2006 6:55:00 PM  Mid-Block (not related to intersection)   \n",
       "2  11/18/2004 10:20:00 AM  Mid-Block (not related to intersection)   \n",
       "3    3/29/2013 9:26:00 AM  Mid-Block (not related to intersection)   \n",
       "4    1/28/2004 8:04:00 AM   At Intersection (intersection related)   \n",
       "\n",
       "   SDOT_COLCODE                                       SDOT_COLDESC  \\\n",
       "0            11  MOTOR VEHICLE STRUCK MOTOR VEHICLE, FRONT END ...   \n",
       "1            16  MOTOR VEHICLE STRUCK MOTOR VEHICLE, LEFT SIDE ...   \n",
       "2            14       MOTOR VEHICLE STRUCK MOTOR VEHICLE, REAR END   \n",
       "3            11  MOTOR VEHICLE STRUCK MOTOR VEHICLE, FRONT END ...   \n",
       "4            11  MOTOR VEHICLE STRUCK MOTOR VEHICLE, FRONT END ...   \n",
       "\n",
       "  INATTENTIONIND UNDERINFL   WEATHER ROADCOND                LIGHTCOND  \\\n",
       "0            NaN         N  Overcast      Wet                 Daylight   \n",
       "1            NaN         0   Raining      Wet  Dark - Street Lights On   \n",
       "2            NaN         0  Overcast      Dry                 Daylight   \n",
       "3            NaN         N     Clear      Dry                 Daylight   \n",
       "4            NaN         0   Raining      Wet                 Daylight   \n",
       "\n",
       "  PEDROWNOTGRNT  SDOTCOLNUM SPEEDING ST_COLCODE  \\\n",
       "0           NaN         NaN      NaN         10   \n",
       "1           NaN   6354039.0      NaN         11   \n",
       "2           NaN   4323031.0      NaN         32   \n",
       "3           NaN         NaN      NaN         23   \n",
       "4           NaN   4028032.0      NaN         10   \n",
       "\n",
       "                                          ST_COLDESC  SEGLANEKEY  \\\n",
       "0                                  Entering at angle           0   \n",
       "1  From same direction - both going straight - bo...           0   \n",
       "2                             One parked--one moving           0   \n",
       "3                   From same direction - all others           0   \n",
       "4                                  Entering at angle           0   \n",
       "\n",
       "   CROSSWALKKEY HITPARKEDCAR  \n",
       "0             0            N  \n",
       "1             0            N  \n",
       "2             0            N  \n",
       "3             0            N  \n",
       "4             0            N  "
      ]
     },
     "execution_count": 3,
     "metadata": {},
     "output_type": "execute_result"
    }
   ],
   "source": [
    "pd.set_option('display.max_columns', None)\n",
    "df.head(5)"
   ]
  },
  {
   "cell_type": "markdown",
   "metadata": {},
   "source": [
    "The data contains 194673 rows and 38 columns"
   ]
  },
  {
   "cell_type": "code",
   "execution_count": 4,
   "metadata": {},
   "outputs": [
    {
     "data": {
      "text/plain": [
       "(194673, 38)"
      ]
     },
     "execution_count": 4,
     "metadata": {},
     "output_type": "execute_result"
    }
   ],
   "source": [
    "df.shape"
   ]
  },
  {
   "cell_type": "code",
   "execution_count": 5,
   "metadata": {},
   "outputs": [
    {
     "data": {
      "text/plain": [
       "Text(0.5, 1.0, 'Histogram of Severity Code type')"
      ]
     },
     "execution_count": 5,
     "metadata": {},
     "output_type": "execute_result"
    },
    {
     "data": {
      "image/png": "[encoded data removed]",
      "text/plain": [
       "<Figure size 432x288 with 1 Axes>"
      ]
     },
     "metadata": {},
     "output_type": "display_data"
    }
   ],
   "source": [
    "plt.hist(df[\"SEVERITYCODE\"])\n",
    "\n",
    "plt.xlabel(\"Severity Code\")\n",
    "plt.ylabel(\"Count\")\n",
    "plt.title(\"Histogram of Severity Code type\")"
   ]
  },
  {
   "cell_type": "code",
   "execution_count": 6,
   "metadata": {},
   "outputs": [],
   "source": [
    "df['INCDATE'] = pd.to_datetime(df['INCDATE'])\n",
    "df['day_week'] = df['INCDATE'].dt.dayofweek"
   ]
  },
  {
   "cell_type": "code",
   "execution_count": 7,
   "metadata": {},
   "outputs": [],
   "source": [
    "df['INCDTTM'] = pd.to_datetime(df['INCDTTM'])\n",
    "df['HOUR'] = df['INCDTTM'].dt.hour"
   ]
  },
  {
   "cell_type": "markdown",
   "metadata": {},
   "source": [
    "We can see that the behaviour in day of weeks is similar to the weekend"
   ]
  },
  {
   "cell_type": "code",
   "execution_count": 8,
   "metadata": {},
   "outputs": [
    {
     "data": {
      "image/png": "[encoded data removed]",
      "text/plain": [
       "<Figure size 432x216 with 2 Axes>"
      ]
     },
     "metadata": {},
     "output_type": "display_data"
    }
   ],
   "source": [
    "bins = np.linspace(df['day_week'].min(), df['day_week'].max(), 10)\n",
    "g = sns.FacetGrid(df, col=\"SEVERITYCODE\", hue=\"day_week\", palette=\"Set1\", col_wrap=2)\n",
    "g.map(plt.hist, 'day_week', bins = bins, ec=\"k\")\n",
    "g.axes[-1].legend()\n",
    "plt.show()"
   ]
  },
  {
   "cell_type": "markdown",
   "metadata": {},
   "source": [
    "We can see that accidents appears frequently by 00 o clock"
   ]
  },
  {
   "cell_type": "code",
   "execution_count": 9,
   "metadata": {},
   "outputs": [
    {
     "data": {
      "text/plain": [
       "Text(0.5, 1.0, 'Histogram of accidents by hour')"
      ]
     },
     "execution_count": 9,
     "metadata": {},
     "output_type": "execute_result"
    },
    {
     "data": {
      "image/png": "[encoded data removed]",
      "text/plain": [
       "<Figure size 432x288 with 1 Axes>"
      ]
     },
     "metadata": {},
     "output_type": "display_data"
    }
   ],
   "source": [
    "plt.hist(df['HOUR'].sort_values().astype(str),bins=25)\n",
    "plt.xlabel(\"Hour\")\n",
    "plt.ylabel(\"Count\")\n",
    "plt.title(\"Histogram of accidents by hour\")"
   ]
  },
  {
   "cell_type": "markdown",
   "metadata": {},
   "source": [
    "### Data Wrangling"
   ]
  },
  {
   "cell_type": "markdown",
   "metadata": {},
   "source": [
    "#### Missing data"
   ]
  },
  {
   "cell_type": "code",
   "execution_count": 10,
   "metadata": {},
   "outputs": [
    {
     "name": "stdout",
     "output_type": "stream",
     "text": [
      "False    194673\n",
      "Name: SEVERITYCODE, dtype: int64 \n",
      "\n",
      "False    189339\n",
      "True       5334\n",
      "Name: X, dtype: int64 \n",
      "\n",
      "False    189339\n",
      "True       5334\n",
      "Name: Y, dtype: int64 \n",
      "\n",
      "False    194673\n",
      "Name: OBJECTID, dtype: int64 \n",
      "\n",
      "False    194673\n",
      "Name: INCKEY, dtype: int64 \n",
      "\n",
      "False    194673\n",
      "Name: COLDETKEY, dtype: int64 \n",
      "\n",
      "False    194673\n",
      "Name: REPORTNO, dtype: int64 \n",
      "\n",
      "False    194673\n",
      "Name: STATUS, dtype: int64 \n",
      "\n",
      "False    192747\n",
      "True       1926\n",
      "Name: ADDRTYPE, dtype: int64 \n",
      "\n",
      "True     129603\n",
      "False     65070\n",
      "Name: INTKEY, dtype: int64 \n",
      "\n",
      "False    191996\n",
      "True       2677\n",
      "Name: LOCATION, dtype: int64 \n",
      "\n",
      "True     109862\n",
      "False     84811\n",
      "Name: EXCEPTRSNCODE, dtype: int64 \n",
      "\n",
      "True     189035\n",
      "False      5638\n",
      "Name: EXCEPTRSNDESC, dtype: int64 \n",
      "\n",
      "False    194673\n",
      "Name: SEVERITYCODE.1, dtype: int64 \n",
      "\n",
      "False    194673\n",
      "Name: SEVERITYDESC, dtype: int64 \n",
      "\n",
      "False    189769\n",
      "True       4904\n",
      "Name: COLLISIONTYPE, dtype: int64 \n",
      "\n",
      "False    194673\n",
      "Name: PERSONCOUNT, dtype: int64 \n",
      "\n",
      "False    194673\n",
      "Name: PEDCOUNT, dtype: int64 \n",
      "\n",
      "False    194673\n",
      "Name: PEDCYLCOUNT, dtype: int64 \n",
      "\n",
      "False    194673\n",
      "Name: VEHCOUNT, dtype: int64 \n",
      "\n",
      "False    194673\n",
      "Name: INCDATE, dtype: int64 \n",
      "\n",
      "False    194673\n",
      "Name: INCDTTM, dtype: int64 \n",
      "\n",
      "False    188344\n",
      "True       6329\n",
      "Name: JUNCTIONTYPE, dtype: int64 \n",
      "\n",
      "False    194673\n",
      "Name: SDOT_COLCODE, dtype: int64 \n",
      "\n",
      "False    194673\n",
      "Name: SDOT_COLDESC, dtype: int64 \n",
      "\n",
      "True     164868\n",
      "False     29805\n",
      "Name: INATTENTIONIND, dtype: int64 \n",
      "\n",
      "False    189789\n",
      "True       4884\n",
      "Name: UNDERINFL, dtype: int64 \n",
      "\n",
      "False    189592\n",
      "True       5081\n",
      "Name: WEATHER, dtype: int64 \n",
      "\n",
      "False    189661\n",
      "True       5012\n",
      "Name: ROADCOND, dtype: int64 \n",
      "\n",
      "False    189503\n",
      "True       5170\n",
      "Name: LIGHTCOND, dtype: int64 \n",
      "\n",
      "True     190006\n",
      "False      4667\n",
      "Name: PEDROWNOTGRNT, dtype: int64 \n",
      "\n",
      "False    114936\n",
      "True      79737\n",
      "Name: SDOTCOLNUM, dtype: int64 \n",
      "\n",
      "True     185340\n",
      "False      9333\n",
      "Name: SPEEDING, dtype: int64 \n",
      "\n",
      "False    194655\n",
      "True         18\n",
      "Name: ST_COLCODE, dtype: int64 \n",
      "\n",
      "False    189769\n",
      "True       4904\n",
      "Name: ST_COLDESC, dtype: int64 \n",
      "\n",
      "False    194673\n",
      "Name: SEGLANEKEY, dtype: int64 \n",
      "\n",
      "False    194673\n",
      "Name: CROSSWALKKEY, dtype: int64 \n",
      "\n",
      "False    194673\n",
      "Name: HITPARKEDCAR, dtype: int64 \n",
      "\n",
      "False    194673\n",
      "Name: day_week, dtype: int64 \n",
      "\n",
      "False    194673\n",
      "Name: HOUR, dtype: int64 \n",
      "\n"
     ]
    }
   ],
   "source": [
    "df_null = df.isnull()\n",
    "for column in df_null.columns.to_list():\n",
    "    print(df_null[column].value_counts(),'\\n')"
   ]
  },
  {
   "cell_type": "markdown",
   "metadata": {},
   "source": [
    "Selecting the important variables and eliminate NaN values (we can replace with the mean, but i detect\n",
    "that the shape doesn't change too much"
   ]
  },
  {
   "cell_type": "code",
   "execution_count": 16,
   "metadata": {},
   "outputs": [
    {
     "data": {
      "text/plain": [
       "(189316, 6)"
      ]
     },
     "execution_count": 16,
     "metadata": {},
     "output_type": "execute_result"
    }
   ],
   "source": [
    "df_filt = df[['SEVERITYCODE','WEATHER','ROADCOND','LIGHTCOND','UNDERINFL','COLLISIONTYPE']].dropna(axis=0)\n",
    "df_filt.shape"
   ]
  },
  {
   "cell_type": "code",
   "execution_count": 17,
   "metadata": {},
   "outputs": [],
   "source": [
    "df_filt['UNDERINFL'].replace(to_replace=['N','Y'], value=['0','1'],inplace=True)"
   ]
  },
  {
   "cell_type": "markdown",
   "metadata": {},
   "source": [
    "#### Balancing data"
   ]
  },
  {
   "cell_type": "code",
   "execution_count": 18,
   "metadata": {},
   "outputs": [
    {
     "data": {
      "text/plain": [
       "(100000, 6)"
      ]
     },
     "execution_count": 18,
     "metadata": {},
     "output_type": "execute_result"
    }
   ],
   "source": [
    "df_filt = pd.concat([df_filt[df_filt['SEVERITYCODE']==1].sample(50000, replace = True), df_filt[df_filt['SEVERITYCODE']==2].sample(50000)], axis=0)\n",
    "df_filt.shape"
   ]
  },
  {
   "cell_type": "code",
   "execution_count": 19,
   "metadata": {},
   "outputs": [
    {
     "data": {
      "text/html": [
       "<div>\n",
       "<style scoped>\n",
       "    .dataframe tbody tr th:only-of-type {\n",
       "        vertical-align: middle;\n",
       "    }\n",
       "\n",
       "    .dataframe tbody tr th {\n",
       "        vertical-align: top;\n",
       "    }\n",
       "\n",
       "    .dataframe thead th {\n",
       "        text-align: right;\n",
       "    }\n",
       "</style>\n",
       "<table border=\"1\" class=\"dataframe\">\n",
       "  <thead>\n",
       "    <tr style=\"text-align: right;\">\n",
       "      <th></th>\n",
       "      <th>SEVERITYCODE</th>\n",
       "      <th>WEATHER</th>\n",
       "      <th>ROADCOND</th>\n",
       "      <th>LIGHTCOND</th>\n",
       "      <th>UNDERINFL</th>\n",
       "      <th>COLLISIONTYPE</th>\n",
       "    </tr>\n",
       "  </thead>\n",
       "  <tbody>\n",
       "    <tr>\n",
       "      <th>67018</th>\n",
       "      <td>1</td>\n",
       "      <td>Clear</td>\n",
       "      <td>Dry</td>\n",
       "      <td>Dark - Street Lights On</td>\n",
       "      <td>1</td>\n",
       "      <td>Other</td>\n",
       "    </tr>\n",
       "    <tr>\n",
       "      <th>157355</th>\n",
       "      <td>1</td>\n",
       "      <td>Clear</td>\n",
       "      <td>Dry</td>\n",
       "      <td>Daylight</td>\n",
       "      <td>0</td>\n",
       "      <td>Rear Ended</td>\n",
       "    </tr>\n",
       "    <tr>\n",
       "      <th>32038</th>\n",
       "      <td>1</td>\n",
       "      <td>Raining</td>\n",
       "      <td>Wet</td>\n",
       "      <td>Dark - Street Lights On</td>\n",
       "      <td>0</td>\n",
       "      <td>Angles</td>\n",
       "    </tr>\n",
       "    <tr>\n",
       "      <th>24601</th>\n",
       "      <td>1</td>\n",
       "      <td>Unknown</td>\n",
       "      <td>Unknown</td>\n",
       "      <td>Unknown</td>\n",
       "      <td>0</td>\n",
       "      <td>Parked Car</td>\n",
       "    </tr>\n",
       "    <tr>\n",
       "      <th>127750</th>\n",
       "      <td>1</td>\n",
       "      <td>Raining</td>\n",
       "      <td>Wet</td>\n",
       "      <td>Daylight</td>\n",
       "      <td>0</td>\n",
       "      <td>Rear Ended</td>\n",
       "    </tr>\n",
       "  </tbody>\n",
       "</table>\n",
       "</div>"
      ],
      "text/plain": [
       "        SEVERITYCODE  WEATHER ROADCOND                LIGHTCOND UNDERINFL  \\\n",
       "67018              1    Clear      Dry  Dark - Street Lights On         1   \n",
       "157355             1    Clear      Dry                 Daylight         0   \n",
       "32038              1  Raining      Wet  Dark - Street Lights On         0   \n",
       "24601              1  Unknown  Unknown                  Unknown         0   \n",
       "127750             1  Raining      Wet                 Daylight         0   \n",
       "\n",
       "       COLLISIONTYPE  \n",
       "67018          Other  \n",
       "157355    Rear Ended  \n",
       "32038         Angles  \n",
       "24601     Parked Car  \n",
       "127750    Rear Ended  "
      ]
     },
     "execution_count": 19,
     "metadata": {},
     "output_type": "execute_result"
    }
   ],
   "source": [
    "df_filt.head(5)"
   ]
  },
  {
   "cell_type": "markdown",
   "metadata": {},
   "source": [
    "#### Transforming categorical variables into numerical"
   ]
  },
  {
   "cell_type": "code",
   "execution_count": 20,
   "metadata": {},
   "outputs": [
    {
     "name": "stderr",
     "output_type": "stream",
     "text": [
      "/Volumes/Transcend/anaconda3/lib/python3.6/site-packages/ipykernel_launcher.py:6: SettingWithCopyWarning: \n",
      "A value is trying to be set on a copy of a slice from a DataFrame.\n",
      "Try using .loc[row_indexer,col_indexer] = value instead\n",
      "\n",
      "See the caveats in the documentation: https://pandas.pydata.org/pandas-docs/stable/user_guide/indexing.html#returning-a-view-versus-a-copy\n",
      "  \n",
      "/Volumes/Transcend/anaconda3/lib/python3.6/site-packages/ipykernel_launcher.py:7: SettingWithCopyWarning: \n",
      "A value is trying to be set on a copy of a slice from a DataFrame.\n",
      "Try using .loc[row_indexer,col_indexer] = value instead\n",
      "\n",
      "See the caveats in the documentation: https://pandas.pydata.org/pandas-docs/stable/user_guide/indexing.html#returning-a-view-versus-a-copy\n",
      "  import sys\n"
     ]
    },
    {
     "data": {
      "text/html": [
       "<div>\n",
       "<style scoped>\n",
       "    .dataframe tbody tr th:only-of-type {\n",
       "        vertical-align: middle;\n",
       "    }\n",
       "\n",
       "    .dataframe tbody tr th {\n",
       "        vertical-align: top;\n",
       "    }\n",
       "\n",
       "    .dataframe thead th {\n",
       "        text-align: right;\n",
       "    }\n",
       "</style>\n",
       "<table border=\"1\" class=\"dataframe\">\n",
       "  <thead>\n",
       "    <tr style=\"text-align: right;\">\n",
       "      <th></th>\n",
       "      <th>WEATHER</th>\n",
       "      <th>ROADCOND</th>\n",
       "      <th>LIGHTCOND</th>\n",
       "      <th>UNDERINFL</th>\n",
       "      <th>COLLISIONTYPE</th>\n",
       "    </tr>\n",
       "  </thead>\n",
       "  <tbody>\n",
       "    <tr>\n",
       "      <th>67018</th>\n",
       "      <td>1</td>\n",
       "      <td>0</td>\n",
       "      <td>2</td>\n",
       "      <td>1</td>\n",
       "      <td>4</td>\n",
       "    </tr>\n",
       "    <tr>\n",
       "      <th>157355</th>\n",
       "      <td>1</td>\n",
       "      <td>0</td>\n",
       "      <td>5</td>\n",
       "      <td>0</td>\n",
       "      <td>7</td>\n",
       "    </tr>\n",
       "    <tr>\n",
       "      <th>32038</th>\n",
       "      <td>6</td>\n",
       "      <td>8</td>\n",
       "      <td>2</td>\n",
       "      <td>0</td>\n",
       "      <td>0</td>\n",
       "    </tr>\n",
       "    <tr>\n",
       "      <th>24601</th>\n",
       "      <td>10</td>\n",
       "      <td>7</td>\n",
       "      <td>8</td>\n",
       "      <td>0</td>\n",
       "      <td>5</td>\n",
       "    </tr>\n",
       "    <tr>\n",
       "      <th>127750</th>\n",
       "      <td>6</td>\n",
       "      <td>8</td>\n",
       "      <td>5</td>\n",
       "      <td>0</td>\n",
       "      <td>7</td>\n",
       "    </tr>\n",
       "  </tbody>\n",
       "</table>\n",
       "</div>"
      ],
      "text/plain": [
       "        WEATHER  ROADCOND  LIGHTCOND  UNDERINFL  COLLISIONTYPE\n",
       "67018         1         0          2          1              4\n",
       "157355        1         0          5          0              7\n",
       "32038         6         8          2          0              0\n",
       "24601        10         7          8          0              5\n",
       "127750        6         8          5          0              7"
      ]
     },
     "execution_count": 20,
     "metadata": {},
     "output_type": "execute_result"
    }
   ],
   "source": [
    "from sklearn.preprocessing import LabelEncoder\n",
    "\n",
    "Feature = df_filt[['WEATHER', 'ROADCOND', 'LIGHTCOND', 'UNDERINFL','COLLISIONTYPE']]\n",
    "\n",
    "for f in ['WEATHER', 'ROADCOND', 'LIGHTCOND','UNDERINFL','COLLISIONTYPE']:\n",
    "    Feature[f] = Feature[f].astype('|S') \n",
    "    Feature[f] = LabelEncoder().fit_transform(Feature[f])\n",
    "\n",
    "Feature.head()"
   ]
  },
  {
   "cell_type": "code",
   "execution_count": null,
   "metadata": {},
   "outputs": [],
   "source": [
    "#Feature = df_filt[['UNDERINFL']]\n",
    "#Feature = pd.concat([Feature,pd.get_dummies(df_filt['WEATHER'])], axis=1)\n",
    "#Feature = pd.concat([Feature,pd.get_dummies(df_filt['ROADCOND'])], axis=1)\n",
    "#Feature = pd.concat([Feature,pd.get_dummies(df_filt['LIGHTCOND'])], axis=1)\n",
    "#Feature = pd.concat([Feature,pd.get_dummies(df_filt['COLLISIONTYPE'])], axis=1)"
   ]
  },
  {
   "cell_type": "code",
   "execution_count": 21,
   "metadata": {},
   "outputs": [],
   "source": [
    "X = Feature\n",
    "y = df_filt['SEVERITYCODE']"
   ]
  },
  {
   "cell_type": "markdown",
   "metadata": {},
   "source": [
    "#### Data Normalization"
   ]
  },
  {
   "cell_type": "code",
   "execution_count": 22,
   "metadata": {},
   "outputs": [],
   "source": [
    "from sklearn import preprocessing\n",
    "\n",
    "X = preprocessing.StandardScaler().fit(X).transform(X)"
   ]
  },
  {
   "cell_type": "markdown",
   "metadata": {},
   "source": [
    "### Model Development"
   ]
  },
  {
   "cell_type": "code",
   "execution_count": 23,
   "metadata": {},
   "outputs": [],
   "source": [
    "from sklearn.model_selection import train_test_split\n",
    "\n",
    "X_train, X_test, y_train, y_test = train_test_split(X, y, test_size=0.3, random_state=0)"
   ]
  },
  {
   "cell_type": "code",
   "execution_count": 24,
   "metadata": {},
   "outputs": [],
   "source": [
    "from sklearn.neighbors import KNeighborsClassifier\n",
    "from sklearn.linear_model import LogisticRegression\n",
    "from sklearn.tree import DecisionTreeClassifier\n",
    "from sklearn import svm\n",
    "from sklearn import metrics"
   ]
  },
  {
   "cell_type": "code",
   "execution_count": 25,
   "metadata": {},
   "outputs": [
    {
     "data": {
      "text/plain": [
       "LogisticRegression(C=0.0001, class_weight=None, dual=False,\n",
       "          fit_intercept=True, intercept_scaling=1, max_iter=100,\n",
       "          multi_class='ovr', n_jobs=1, penalty='l2', random_state=None,\n",
       "          solver='liblinear', tol=0.0001, verbose=0, warm_start=False)"
      ]
     },
     "execution_count": 25,
     "metadata": {},
     "output_type": "execute_result"
    }
   ],
   "source": [
    "LR = LogisticRegression(C=0.0001, solver='liblinear')\n",
    "LR.fit(X_train, y_train)"
   ]
  },
  {
   "cell_type": "code",
   "execution_count": 26,
   "metadata": {},
   "outputs": [
    {
     "data": {
      "text/plain": [
       "DecisionTreeClassifier(class_weight=None, criterion='entropy', max_depth=4,\n",
       "            max_features=None, max_leaf_nodes=None,\n",
       "            min_impurity_decrease=0.0, min_impurity_split=None,\n",
       "            min_samples_leaf=1, min_samples_split=2,\n",
       "            min_weight_fraction_leaf=0.0, presort=False, random_state=None,\n",
       "            splitter='best')"
      ]
     },
     "execution_count": 26,
     "metadata": {},
     "output_type": "execute_result"
    }
   ],
   "source": [
    "Tree = DecisionTreeClassifier(criterion=\"entropy\", max_depth = 4)\n",
    "Tree.fit(X_train, y_train)"
   ]
  },
  {
   "cell_type": "code",
   "execution_count": 27,
   "metadata": {},
   "outputs": [
    {
     "data": {
      "text/plain": [
       "SVC(C=1.0, cache_size=200, class_weight=None, coef0=0.0,\n",
       "  decision_function_shape='ovr', degree=3, gamma='auto', kernel='rbf',\n",
       "  max_iter=-1, probability=False, random_state=None, shrinking=True,\n",
       "  tol=0.001, verbose=False)"
      ]
     },
     "execution_count": 27,
     "metadata": {},
     "output_type": "execute_result"
    }
   ],
   "source": [
    "clf = svm.SVC(kernel='rbf')\n",
    "clf.fit(X_train, y_train)"
   ]
  },
  {
   "cell_type": "code",
   "execution_count": 28,
   "metadata": {},
   "outputs": [
    {
     "data": {
      "text/plain": [
       "array([0.6223    , 0.56666667, 0.6176    , 0.6118    , 0.65183333,\n",
       "       0.6085    , 0.6132    , 0.6324    , 0.64393333])"
      ]
     },
     "execution_count": 28,
     "metadata": {},
     "output_type": "execute_result"
    }
   ],
   "source": [
    "Ks = 10\n",
    "mean_acc = np.zeros((Ks-1))\n",
    "std_acc = np.zeros((Ks-1))\n",
    "ConfustionMx = [];\n",
    "for n in range(1,Ks):\n",
    "    \n",
    "    #Train Model and Predict  \n",
    "    neigh = KNeighborsClassifier(n_neighbors = n).fit(X_train,y_train)\n",
    "    yhat_knn = neigh.predict(X_test)\n",
    "    mean_acc[n-1] = metrics.accuracy_score(y_test, yhat_knn)\n",
    "\n",
    "    \n",
    "    std_acc[n-1] = np.std(yhat_knn==y_test)/np.sqrt(yhat_knn.shape[0])\n",
    "\n",
    "mean_acc"
   ]
  },
  {
   "cell_type": "markdown",
   "metadata": {},
   "source": [
    "For KNN model, we find the best k for this model"
   ]
  },
  {
   "cell_type": "code",
   "execution_count": 29,
   "metadata": {},
   "outputs": [
    {
     "data": {
      "image/png": "[encoded data removed]",
      "text/plain": [
       "<Figure size 432x288 with 1 Axes>"
      ]
     },
     "metadata": {},
     "output_type": "display_data"
    },
    {
     "name": "stdout",
     "output_type": "stream",
     "text": [
      "The best accuracy was with jaccard index of: 0.6518333333333334 with k= 5\n"
     ]
    }
   ],
   "source": [
    "plt.plot(range(1,Ks),mean_acc,'g')\n",
    "plt.fill_between(range(1,Ks),mean_acc - 1 * std_acc,mean_acc + 1 * std_acc, alpha=0.10)\n",
    "plt.legend(('Accuracy ', '+/- 3xstd'))\n",
    "plt.ylabel('Accuracy ')\n",
    "plt.xlabel('Number of Nabors (K)')\n",
    "plt.tight_layout()\n",
    "plt.show()\n",
    "print( \"The best accuracy was with jaccard index of:\", mean_acc.max(), \"with k=\", mean_acc.argmax()+1) "
   ]
  },
  {
   "cell_type": "code",
   "execution_count": 30,
   "metadata": {},
   "outputs": [],
   "source": [
    "neigh = KNeighborsClassifier(n_neighbors = 5).fit(X_train,y_train)"
   ]
  },
  {
   "cell_type": "markdown",
   "metadata": {},
   "source": [
    "### Model Evaluation"
   ]
  },
  {
   "cell_type": "code",
   "execution_count": 31,
   "metadata": {},
   "outputs": [],
   "source": [
    "from sklearn.metrics import jaccard_similarity_score\n",
    "from sklearn.metrics import f1_score\n",
    "from sklearn.metrics import log_loss"
   ]
  },
  {
   "cell_type": "code",
   "execution_count": 32,
   "metadata": {},
   "outputs": [],
   "source": [
    "yhat_knn = neigh.predict(X_test)\n",
    "yhat_Tree = Tree.predict(X_test)\n",
    "yhat_SVM = clf.predict(X_test)\n",
    "yhat_LR = LR.predict(X_test)\n",
    "yhat_LR_prob = LR.predict_proba(X_test)"
   ]
  },
  {
   "cell_type": "code",
   "execution_count": 33,
   "metadata": {},
   "outputs": [],
   "source": [
    "yhat = [yhat_knn, yhat_Tree, yhat_SVM, yhat_LR]\n",
    "jaccard_index = []\n",
    "f1_index = []\n",
    "loss_index = ['NA','NA','NA',log_loss(y_test, yhat_LR_prob)]\n",
    "\n",
    "for model in yhat:\n",
    "        jaccard_index.append(jaccard_similarity_score(y_test, model))\n",
    "        f1_index.append(f1_score(y_test, model, average='weighted'))"
   ]
  },
  {
   "cell_type": "code",
   "execution_count": 34,
   "metadata": {},
   "outputs": [
    {
     "data": {
      "text/html": [
       "<div>\n",
       "<style scoped>\n",
       "    .dataframe tbody tr th:only-of-type {\n",
       "        vertical-align: middle;\n",
       "    }\n",
       "\n",
       "    .dataframe tbody tr th {\n",
       "        vertical-align: top;\n",
       "    }\n",
       "\n",
       "    .dataframe thead th {\n",
       "        text-align: right;\n",
       "    }\n",
       "</style>\n",
       "<table border=\"1\" class=\"dataframe\">\n",
       "  <thead>\n",
       "    <tr style=\"text-align: right;\">\n",
       "      <th></th>\n",
       "      <th>Algorithm</th>\n",
       "      <th>Jaccard</th>\n",
       "      <th>F1-score</th>\n",
       "      <th>LogLoss</th>\n",
       "    </tr>\n",
       "  </thead>\n",
       "  <tbody>\n",
       "    <tr>\n",
       "      <th>0</th>\n",
       "      <td>KNN</td>\n",
       "      <td>0.651833</td>\n",
       "      <td>0.646871</td>\n",
       "      <td>NA</td>\n",
       "    </tr>\n",
       "    <tr>\n",
       "      <th>1</th>\n",
       "      <td>Decision Tree</td>\n",
       "      <td>0.702300</td>\n",
       "      <td>0.700003</td>\n",
       "      <td>NA</td>\n",
       "    </tr>\n",
       "    <tr>\n",
       "      <th>2</th>\n",
       "      <td>SVM</td>\n",
       "      <td>0.660133</td>\n",
       "      <td>0.659357</td>\n",
       "      <td>NA</td>\n",
       "    </tr>\n",
       "    <tr>\n",
       "      <th>3</th>\n",
       "      <td>LogisticRegression</td>\n",
       "      <td>0.534600</td>\n",
       "      <td>0.534478</td>\n",
       "      <td>0.676776</td>\n",
       "    </tr>\n",
       "  </tbody>\n",
       "</table>\n",
       "</div>"
      ],
      "text/plain": [
       "            Algorithm   Jaccard  F1-score   LogLoss\n",
       "0                 KNN  0.651833  0.646871        NA\n",
       "1       Decision Tree  0.702300  0.700003        NA\n",
       "2                 SVM  0.660133  0.659357        NA\n",
       "3  LogisticRegression  0.534600  0.534478  0.676776"
      ]
     },
     "execution_count": 34,
     "metadata": {},
     "output_type": "execute_result"
    }
   ],
   "source": [
    "#Final Report\n",
    "parameters = pd.DataFrame({'Algorithm': ['KNN','Decision Tree','SVM','LogisticRegression'], 'Jaccard': jaccard_index, 'F1-score': f1_index, 'LogLoss': loss_index})\n",
    "parameters"
   ]
  }
 ],
 "metadata": {
  "kernelspec": {
   "display_name": "Python 3",
   "language": "python",
   "name": "python3"
  },
  "language_info": {
   "codemirror_mode": {
    "name": "ipython",
    "version": 3
   },
   "file_extension": ".py",
   "mimetype": "text/x-python",
   "name": "python",
   "nbconvert_exporter": "python",
   "pygments_lexer": "ipython3",
   "version": "3.6.6"
  }
 },
 "nbformat": 4,
 "nbformat_minor": 2
}
